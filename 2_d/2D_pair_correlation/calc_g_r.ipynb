{
 "cells": [
  {
   "cell_type": "code",
   "execution_count": 33,
   "metadata": {
    "cell_id": "1df8b0a4451045d1b6d28b9e0b205314",
    "deepnote_cell_type": "code",
    "deepnote_to_be_reexecuted": false,
    "execution_millis": 1513,
    "execution_start": 1683985777384,
    "source_hash": "31ab4e9c"
   },
   "outputs": [],
   "source": [
    "from __future__ import division\n",
    "import numpy as np\n",
    "import matplotlib.pyplot as plt\n",
    "import pylab"
   ]
  },
  {
   "cell_type": "code",
   "execution_count": 34,
   "metadata": {
    "cell_id": "ebea1395ad2b4ed989422de78a2856af",
    "deepnote_cell_type": "code"
   },
   "outputs": [],
   "source": [
    "M = 1     \n",
    "N = 100\n",
    "\n",
    "def calc_g_r(name, L):          \n",
    "    NP = 64\n",
    "    r = np.linspace(0.001,L/2,50)\n",
    "    \n",
    "    dist = []\n",
    "    \n",
    "    for run in range(10):\n",
    "        dis = np.zeros(len(r))\n",
    "        for i in range(M,N):\n",
    "            data=pylab.loadtxt('./rod/'+str(run)+'_'+name+'_'+str(round(L,2))+'/traj_MC_'+name+'_'+str(round(L,2))+'_'+str(i)+'.dat')\n",
    "            x=data[:,0]\n",
    "            y=data[:,1]\n",
    "            for j in range(0,NP):\n",
    "                for k in range(j,NP):\n",
    "                    dx = abs(x[j]-x[k])\n",
    "                    dy = abs(y[j]-y[k])\n",
    "\n",
    "                    #periodic boundary condition\n",
    "                    if dx>L/2: dx = L-dx\n",
    "                    if dy>L/2: dy = L-dy\n",
    "\n",
    "                    d=((dx)**2+(dy)**2)**0.5\n",
    "\n",
    "                    #count the number of particles from r to r+1\n",
    "                    for l in range(0,len(r)-1):\n",
    "                        if d>r[l] and d<r[l+1]:\n",
    "                            dis[l+1]=dis[l+1]+1\n",
    "                            \n",
    "        for i in range(0,len(dis)):\n",
    "            dis[i]=dis[i]/((N-M)*2*3.14*r[i])\n",
    "            dis[i]=dis[i]/((64/2)*(r[2]-r[1])*(64/(L*L)))\n",
    "            \n",
    "        dist.append(dis)\n",
    "        \n",
    "    std = np.std(dist, axis=0)\n",
    "    dist = np.average(dist,axis=0)\n",
    "    \n",
    "    return r,dist,std"
   ]
  },
  {
   "cell_type": "code",
   "execution_count": 35,
   "metadata": {
    "cell_id": "8f6dca5f83004178b5371923f7a207a5",
    "deepnote_cell_type": "code",
    "scrolled": false
   },
   "outputs": [],
   "source": [
    "Area_frac = 0.2\n",
    "D = 0.11111111111111\n",
    "num_disk = 32\n",
    "phi = 4*Area_frac/(num_disk*np.pi*D*D)\n",
    "\n",
    "NP = 64\n",
    "L = (NP/phi)**0.5\n",
    "\n",
    "r,dis,std=calc_g_r('NORMAL', L)\n",
    "# plt.plot(r,dis,color='red', label='Explicit Distance Calculation')\n",
    "# plt.scatter(r,dis)\n",
    "\n",
    "r2,dis2,std2=calc_g_r('ML_Grad_Boost', L)\n",
    "# plt.plot(r,dis, color='black',label='Grad Boost')\n",
    "# plt.scatter(r,dis)"
   ]
  },
  {
   "cell_type": "code",
   "execution_count": null,
   "metadata": {},
   "outputs": [],
   "source": [
    "plt.errorbar(r,dis,yerr=std,ecolor='red',elinewidth=1,capsize=5,color='red', label='Explicit Distance Calculation')\n",
    "plt.errorbar(r2,dis2,yerr=std2,ecolor='blue',elinewidth=1,capsize=5,color='blue',label='ML Model')\n",
    "\n",
    "plt.title('Rod', fontsize=15)\n",
    "plt.legend(loc=4, fontsize=15)\n",
    "plt.xlabel(r\"$r$\",fontsize=15)\n",
    "plt.ylabel(r\"$g(r)$\",fontsize=15)\n",
    "plt.tick_params(direction='in', length=6, width=2, colors='black', labelsize=15, grid_color='black')\n",
    "\n",
    "plt.tight_layout()\n",
    "plt.savefig('../snaps/rod_0.2_with_error_bar_up.png', dpi=200)\n",
    "\n",
    "plt.show()"
   ]
  }
 ],
 "metadata": {
  "deepnote": {},
  "deepnote_execution_queue": [],
  "deepnote_notebook_id": "edb0ebc8200640fdb9727ec88cfa37b9",
  "kernelspec": {
   "display_name": "Python 3 (ipykernel)",
   "language": "python",
   "name": "python3"
  },
  "language_info": {
   "codemirror_mode": {
    "name": "ipython",
    "version": 3
   },
   "file_extension": ".py",
   "mimetype": "text/x-python",
   "name": "python",
   "nbconvert_exporter": "python",
   "pygments_lexer": "ipython3",
   "version": "3.10.6"
  }
 },
 "nbformat": 4,
 "nbformat_minor": 1
}
